{
 "cells": [
  {
   "cell_type": "code",
   "execution_count": 1,
   "metadata": {},
   "outputs": [],
   "source": [
    "import numpy as np\n",
    "import matplotlib.pyplot as plt\n"
   ]
  },
  {
   "cell_type": "markdown",
   "metadata": {},
   "source": [
    "num of hidden layers, \n",
    "activation function, \n",
    "num of epochs, batch size, \n",
    "learning rate with scheduler\n",
    "\n",
    "---------------------------\n",
    "activation function\n",
    "\n",
    "lr=1e-2\n",
    "\n",
    "epochs=20\n",
    "\n",
    "batch_size = 1\n",
    "\n",
    "nodes_per_hidden_layer=12\n",
    "\n",
    "number_of_hidden_layer=2\n",
    "\n",
    "optimizer = opt.Adam(model.parameters(), lr=lr)\n",
    "\n",
    "criterion = torch.nn.MSELoss().to(device)\n",
    "\n"
   ]
  },
  {
   "cell_type": "code",
   "execution_count": null,
   "metadata": {},
   "outputs": [],
   "source": []
  }
 ],
 "metadata": {
  "kernelspec": {
   "display_name": "Python 3.9.13 ('torch3')",
   "language": "python",
   "name": "python3"
  },
  "language_info": {
   "codemirror_mode": {
    "name": "ipython",
    "version": 3
   },
   "file_extension": ".py",
   "mimetype": "text/x-python",
   "name": "python",
   "nbconvert_exporter": "python",
   "pygments_lexer": "ipython3",
   "version": "3.9.13"
  },
  "orig_nbformat": 4,
  "vscode": {
   "interpreter": {
    "hash": "40811b77fc361d43600929cc59d905b06e0cebb6488c8210251e2e33ec87a75f"
   }
  }
 },
 "nbformat": 4,
 "nbformat_minor": 2
}
