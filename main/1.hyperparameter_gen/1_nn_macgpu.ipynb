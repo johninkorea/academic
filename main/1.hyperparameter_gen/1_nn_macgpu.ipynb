{
 "cells": [
  {
   "cell_type": "code",
   "execution_count": 1,
   "metadata": {},
   "outputs": [],
   "source": [
    "## imports\n",
    "import numpy as np\n",
    "import matplotlib.pyplot as plt\n",
    "\n",
    "import torch\n",
    "\n",
    "import torch.nn as nn\n",
    "import torch.optim as opt\n",
    "import torch.nn.functional as F\n",
    "\n",
    "from torch.utils.data import Dataset\n",
    "from torch.utils.data import DataLoader\n",
    "\n",
    "## set seed\n",
    "seed=1\n",
    "torch.manual_seed(seed)\n",
    "np.random.seed(seed)"
   ]
  },
  {
   "cell_type": "code",
   "execution_count": 2,
   "metadata": {},
   "outputs": [
    {
     "data": {
      "image/png": "[encoded data removed]",
      "text/plain": [
       "<Figure size 432x288 with 1 Axes>"
      ]
     },
     "metadata": {
      "needs_background": "light"
     },
     "output_type": "display_data"
    }
   ],
   "source": [
    "## create data\n",
    "N=int(1e2) # number of data\n",
    "x=np.linspace(-.9,.9,N)\n",
    "y=np.sin(x)\n",
    "\n",
    "idx_train=(np.random.choice(N,80,replace=0))\n",
    "idx_test = np.setdiff1d(np.arange(N), idx_train)\n",
    "\n",
    "x_train=x[idx_train]\n",
    "y_train=y[idx_train]\n",
    "\n",
    "x_test=x[idx_test]\n",
    "y_test=y[idx_test]\n",
    "\n",
    "plt.scatter(x_train,y_train,s=1,c='r')\n",
    "plt.scatter(x_test,y_test,s=1,c='b')\n",
    "plt.show()"
   ]
  },
  {
   "cell_type": "code",
   "execution_count": 3,
   "metadata": {},
   "outputs": [
    {
     "name": "stdout",
     "output_type": "stream",
     "text": [
      "learning with cpu\n"
     ]
    }
   ],
   "source": [
    "## device choice\n",
    "device = 'mps' if torch.backends.mps.is_built()  else 'cpu'\n",
    "device = 'cpu'\n",
    "\n",
    "# # GPU 사용 가능일 경우 랜덤 시드 고정\n",
    "# if device == 'mps':\n",
    "#     # torch.backends.mps.manual_seed_all(seed)\n",
    "#     torch.backends.mps.is_available()\n",
    "\n",
    "print(\"learning with\",device)"
   ]
  },
  {
   "cell_type": "code",
   "execution_count": 4,
   "metadata": {},
   "outputs": [],
   "source": [
    "# 신경망 정의\n",
    "class NN(nn.Module):\n",
    "    def __init__(self, num1, num2):#, batch):\n",
    "        self.num1 = num1 # nodes per hidden layer\n",
    "        self.num2 = num2 # number of hidden layer\n",
    "        # self.batch=batch # batch size\n",
    "\n",
    "        super(NN, self).__init__()\n",
    "        self.layer_in = nn.Sequential(\n",
    "            nn.Linear(1,self.num1),\n",
    "            nn.ReLU())\n",
    "        self.layer_hidden = nn.Sequential(\n",
    "            nn.Linear(self.num1,self.num1),\n",
    "            nn.ReLU())\n",
    "        self.layer_out = nn.Sequential(\n",
    "            nn.Linear(self.num1,1),\n",
    "            # nn.ReLU()) # 이거로 하면 바로 0으로 가서 학습하는게 의미 없어짐\n",
    "            nn.Sigmoid()) # 20번 학습하면 1e-9 order로 수렴함\n",
    "\n",
    "        self.hidden=nn.ModuleList()\n",
    "        for i in range(self.num2):\n",
    "            self.hidden.append(self.layer_hidden)\n",
    "        # self.fc1 = nn.Linear(1, 1)\n",
    "        \n",
    "        # 가중치를 고르게하는 건데 이 잘 안돼네....\n",
    "        # nn.init.xavier_uniform_(self.layer1.weight) # 지금까지는 대충 설정했는데\n",
    "        # nn.init.xavier_uniform_(self.layer2.weight) # 지금까지는 대충 설정했는데\n",
    "\n",
    "    def forward(self, x): # 순서대로 대입해서 출력하는 것뿐 \n",
    "        out = self.layer_in(x)\n",
    "        for layer in self.hidden:\n",
    "            out = layer(out)\n",
    "        out = self.layer_out(out)\n",
    "        # out=self.fc1(out)\n",
    "        return out"
   ]
  },
  {
   "cell_type": "code",
   "execution_count": 5,
   "metadata": {},
   "outputs": [],
   "source": [
    "## set hyper parameter\n",
    "lr=1e-2\n",
    "epochs=20\n",
    "batch_size = 1\n",
    "\n",
    "## model define\n",
    "nodes_per_hidden_layer=12\n",
    "number_of_hidden_layer=2\n",
    "model = NN(nodes_per_hidden_layer,number_of_hidden_layer).to(device)\n",
    "\n",
    "optimizer = opt.Adam(model.parameters(), lr=lr)\n",
    "\n",
    "criterion = torch.nn.MSELoss().to(device)"
   ]
  },
  {
   "cell_type": "code",
   "execution_count": 6,
   "metadata": {},
   "outputs": [],
   "source": [
    "## set data\n",
    "from torch.utils.data import TensorDataset, DataLoader\n",
    "# array to tensor\n",
    "train_data = torch.Tensor(x_train)\n",
    "train_label = torch.LongTensor(y_train) #-->이거를 long으로 하니까 loss가 더 빠르게 내려가\n",
    "ds_train = TensorDataset(train_data, train_label)\n",
    "train = DataLoader(ds_train, batch_size=batch_size, shuffle=True)\n",
    "\n",
    "test_data = torch.Tensor(x_test)\n",
    "test_label = torch.LongTensor(y_test)\n",
    "ds_test = TensorDataset(test_data, test_label)\n",
    "test = DataLoader(ds_test, batch_size=batch_size, shuffle=False)\n",
    "\n",
    "\n",
    "total_batch = len(train)\n"
   ]
  },
  {
   "cell_type": "code",
   "execution_count": 7,
   "metadata": {},
   "outputs": [
    {
     "name": "stdout",
     "output_type": "stream",
     "text": [
      "[Epoch:  1] cost = 0.0111636\n",
      "[Epoch:  2] cost = 1.16733e-07\n",
      "[Epoch:  3] cost = 1.1457e-07\n",
      "[Epoch:  4] cost = 1.12344e-07\n",
      "[Epoch:  5] cost = 1.09826e-07\n",
      "[Epoch:  6] cost = 1.07076e-07\n",
      "[Epoch:  7] cost = 1.04101e-07\n",
      "[Epoch:  8] cost = 1.01e-07\n",
      "[Epoch:  9] cost = 9.78416e-08\n",
      "[Epoch: 10] cost = 9.45273e-08\n",
      "[Epoch: 11] cost = 9.12123e-08\n",
      "[Epoch: 12] cost = 8.78634e-08\n",
      "[Epoch: 13] cost = 8.45236e-08\n",
      "[Epoch: 14] cost = 8.11794e-08\n",
      "[Epoch: 15] cost = 7.78896e-08\n",
      "[Epoch: 16] cost = 7.46543e-08\n",
      "[Epoch: 17] cost = 7.14584e-08\n",
      "[Epoch: 18] cost = 6.83568e-08\n",
      "[Epoch: 19] cost = 6.53358e-08\n",
      "[Epoch: 20] cost = 6.24414e-08\n"
     ]
    }
   ],
   "source": [
    "## train\n",
    "costh=[]\n",
    "for epoch in range(epochs):\n",
    "    avg_cost = 0\n",
    "\n",
    "    for X, Y in train: # 미니 배치 단위로 꺼내온다. X는 이미지, Y는 레이블.\n",
    "        # image is already size of (28x28), no reshape\n",
    "        # label is not one-hot encoded\n",
    "        X = X.to(device)\n",
    "        Y = Y.to(device)\n",
    "\n",
    "        optimizer.zero_grad()\n",
    "        hypothesis = model(X)\n",
    "        # print(hypothesis)\n",
    "        # print(Y)\n",
    "        cost = criterion(hypothesis.to(torch.float32), Y.to(torch.float32))\n",
    "        cost.backward()\n",
    "        optimizer.step()\n",
    "\n",
    "        avg_cost += cost / total_batch\n",
    "    # print(avg_cost.item())\n",
    "    # print(type(avg_cost))\n",
    "    # avg_cost=avg_cost.detach().numpy()\n",
    "    avg_cost=avg_cost.item()\n",
    "    print('[Epoch: {:>2}] cost = {:>.6}'.format(epoch + 1, avg_cost))\n",
    "    # os.system(f\"say {epoch + 1} epoch done {epoch + 1} epoch done\")\n",
    "    costh.append(avg_cost)\n"
   ]
  },
  {
   "cell_type": "code",
   "execution_count": 8,
   "metadata": {},
   "outputs": [
    {
     "data": {
      "image/png": "[encoded data removed]",
      "text/plain": [
       "<Figure size 432x288 with 1 Axes>"
      ]
     },
     "metadata": {
      "needs_background": "light"
     },
     "output_type": "display_data"
    }
   ],
   "source": [
    "plt.plot(range(epochs),costh)\n",
    "plt.show()\n",
    "\n"
   ]
  },
  {
   "cell_type": "code",
   "execution_count": 9,
   "metadata": {},
   "outputs": [],
   "source": [
    "# torch.save(model, \"./gpu_model_save.pth\")\n",
    "# model_c = torch.load(\"./gpu_model_save.pth\", map_location=device)\n",
    "# model_c.eval() # 모델 활성화!\n",
    "# print(train_data[1])\n",
    "\n",
    "\n",
    "\n",
    "# yy=[]\n",
    "# z=0\n",
    "# while z<len(train_data):\n",
    "#     model(train_data[z])\n",
    "#     z+=1\n",
    "# plt.plot(train_data,yy)\n",
    "# plt.show()"
   ]
  }
 ],
 "metadata": {
  "kernelspec": {
   "display_name": "Python 3.9.13 ('torch3')",
   "language": "python",
   "name": "python3"
  },
  "language_info": {
   "codemirror_mode": {
    "name": "ipython",
    "version": 3
   },
   "file_extension": ".py",
   "mimetype": "text/x-python",
   "name": "python",
   "nbconvert_exporter": "python",
   "pygments_lexer": "ipython3",
   "version": "3.9.13"
  },
  "orig_nbformat": 4,
  "vscode": {
   "interpreter": {
    "hash": "40811b77fc361d43600929cc59d905b06e0cebb6488c8210251e2e33ec87a75f"
   }
  }
 },
 "nbformat": 4,
 "nbformat_minor": 2
}
